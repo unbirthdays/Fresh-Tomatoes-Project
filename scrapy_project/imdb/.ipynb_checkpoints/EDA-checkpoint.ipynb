{
 "cells": [
  {
   "cell_type": "code",
   "execution_count": 241,
   "id": "6169cc2a",
   "metadata": {},
   "outputs": [],
   "source": [
    "import pandas as pd\n",
    "import numpy as np\n",
    "import seaborn as sns\n",
    "import matplotlib.pyplot as plt\n",
    "%matplotlib inline\n",
    "from scipy.stats import pearsonr, spearmanr\n",
    "import collections"
   ]
  },
  {
   "cell_type": "code",
   "execution_count": 242,
   "id": "8aeadfe0",
   "metadata": {},
   "outputs": [],
   "source": [
    "movies = pd.read_csv(\"movies_cleaned.csv\")"
   ]
  },
  {
   "cell_type": "code",
   "execution_count": 244,
   "id": "169cee16",
   "metadata": {},
   "outputs": [
    {
     "data": {
      "text/html": [
       "<div>\n",
       "<style scoped>\n",
       "    .dataframe tbody tr th:only-of-type {\n",
       "        vertical-align: middle;\n",
       "    }\n",
       "\n",
       "    .dataframe tbody tr th {\n",
       "        vertical-align: top;\n",
       "    }\n",
       "\n",
       "    .dataframe thead th {\n",
       "        text-align: right;\n",
       "    }\n",
       "</style>\n",
       "<table border=\"1\" class=\"dataframe\">\n",
       "  <thead>\n",
       "    <tr style=\"text-align: right;\">\n",
       "      <th></th>\n",
       "      <th>Unnamed: 0</th>\n",
       "      <th>title</th>\n",
       "      <th>year</th>\n",
       "      <th>rating</th>\n",
       "      <th>genres</th>\n",
       "      <th>runtime</th>\n",
       "      <th>votes</th>\n",
       "      <th>metascore</th>\n",
       "      <th>decade</th>\n",
       "    </tr>\n",
       "  </thead>\n",
       "  <tbody>\n",
       "    <tr>\n",
       "      <th>0</th>\n",
       "      <td>0</td>\n",
       "      <td>The Shawshank Redemption</td>\n",
       "      <td>1994</td>\n",
       "      <td>9.3</td>\n",
       "      <td>Drama</td>\n",
       "      <td>142</td>\n",
       "      <td>2757059</td>\n",
       "      <td>82.0</td>\n",
       "      <td>1990s</td>\n",
       "    </tr>\n",
       "    <tr>\n",
       "      <th>1</th>\n",
       "      <td>1</td>\n",
       "      <td>The Godfather</td>\n",
       "      <td>1972</td>\n",
       "      <td>9.2</td>\n",
       "      <td>Crime, Drama</td>\n",
       "      <td>175</td>\n",
       "      <td>1918435</td>\n",
       "      <td>100.0</td>\n",
       "      <td>1970s</td>\n",
       "    </tr>\n",
       "    <tr>\n",
       "      <th>2</th>\n",
       "      <td>2</td>\n",
       "      <td>The Chaos Class</td>\n",
       "      <td>1975</td>\n",
       "      <td>9.2</td>\n",
       "      <td>Comedy, Drama</td>\n",
       "      <td>87</td>\n",
       "      <td>41819</td>\n",
       "      <td>NaN</td>\n",
       "      <td>1970s</td>\n",
       "    </tr>\n",
       "    <tr>\n",
       "      <th>3</th>\n",
       "      <td>3</td>\n",
       "      <td>The Dark Knight</td>\n",
       "      <td>2008</td>\n",
       "      <td>9.0</td>\n",
       "      <td>Action, Crime, Drama</td>\n",
       "      <td>152</td>\n",
       "      <td>2730041</td>\n",
       "      <td>84.0</td>\n",
       "      <td>2000s</td>\n",
       "    </tr>\n",
       "    <tr>\n",
       "      <th>4</th>\n",
       "      <td>4</td>\n",
       "      <td>Schindler's List</td>\n",
       "      <td>1993</td>\n",
       "      <td>9.0</td>\n",
       "      <td>Biography, Drama, History</td>\n",
       "      <td>195</td>\n",
       "      <td>1389557</td>\n",
       "      <td>95.0</td>\n",
       "      <td>1990s</td>\n",
       "    </tr>\n",
       "    <tr>\n",
       "      <th>...</th>\n",
       "      <td>...</td>\n",
       "      <td>...</td>\n",
       "      <td>...</td>\n",
       "      <td>...</td>\n",
       "      <td>...</td>\n",
       "      <td>...</td>\n",
       "      <td>...</td>\n",
       "      <td>...</td>\n",
       "      <td>...</td>\n",
       "    </tr>\n",
       "    <tr>\n",
       "      <th>995</th>\n",
       "      <td>995</td>\n",
       "      <td>Harry Potter and the Half-Blood Prince</td>\n",
       "      <td>2009</td>\n",
       "      <td>7.6</td>\n",
       "      <td>Action, Adventure, Family</td>\n",
       "      <td>153</td>\n",
       "      <td>566356</td>\n",
       "      <td>78.0</td>\n",
       "      <td>2000s</td>\n",
       "    </tr>\n",
       "    <tr>\n",
       "      <th>996</th>\n",
       "      <td>996</td>\n",
       "      <td>The Others</td>\n",
       "      <td>2001</td>\n",
       "      <td>7.6</td>\n",
       "      <td>Horror, Mystery, Thriller</td>\n",
       "      <td>104</td>\n",
       "      <td>377725</td>\n",
       "      <td>74.0</td>\n",
       "      <td>2000s</td>\n",
       "    </tr>\n",
       "    <tr>\n",
       "      <th>997</th>\n",
       "      <td>997</td>\n",
       "      <td>The Godfather Part III</td>\n",
       "      <td>1990</td>\n",
       "      <td>7.6</td>\n",
       "      <td>Crime, Drama</td>\n",
       "      <td>162</td>\n",
       "      <td>408911</td>\n",
       "      <td>60.0</td>\n",
       "      <td>1990s</td>\n",
       "    </tr>\n",
       "    <tr>\n",
       "      <th>998</th>\n",
       "      <td>998</td>\n",
       "      <td>Inside Man</td>\n",
       "      <td>2006</td>\n",
       "      <td>7.6</td>\n",
       "      <td>Crime, Drama, Mystery</td>\n",
       "      <td>129</td>\n",
       "      <td>384826</td>\n",
       "      <td>76.0</td>\n",
       "      <td>2000s</td>\n",
       "    </tr>\n",
       "    <tr>\n",
       "      <th>999</th>\n",
       "      <td>999</td>\n",
       "      <td>Train to Busan</td>\n",
       "      <td>2016</td>\n",
       "      <td>7.6</td>\n",
       "      <td>Action, Horror, Thriller</td>\n",
       "      <td>118</td>\n",
       "      <td>236111</td>\n",
       "      <td>73.0</td>\n",
       "      <td>2010s</td>\n",
       "    </tr>\n",
       "  </tbody>\n",
       "</table>\n",
       "<p>1000 rows × 9 columns</p>\n",
       "</div>"
      ],
      "text/plain": [
       "     Unnamed: 0                                   title  year  rating   \n",
       "0             0                The Shawshank Redemption  1994     9.3  \\\n",
       "1             1                           The Godfather  1972     9.2   \n",
       "2             2                         The Chaos Class  1975     9.2   \n",
       "3             3                         The Dark Knight  2008     9.0   \n",
       "4             4                        Schindler's List  1993     9.0   \n",
       "..          ...                                     ...   ...     ...   \n",
       "995         995  Harry Potter and the Half-Blood Prince  2009     7.6   \n",
       "996         996                              The Others  2001     7.6   \n",
       "997         997                  The Godfather Part III  1990     7.6   \n",
       "998         998                              Inside Man  2006     7.6   \n",
       "999         999                          Train to Busan  2016     7.6   \n",
       "\n",
       "                        genres  runtime    votes  metascore decade  \n",
       "0                        Drama      142  2757059       82.0  1990s  \n",
       "1                 Crime, Drama      175  1918435      100.0  1970s  \n",
       "2                Comedy, Drama       87    41819        NaN  1970s  \n",
       "3         Action, Crime, Drama      152  2730041       84.0  2000s  \n",
       "4    Biography, Drama, History      195  1389557       95.0  1990s  \n",
       "..                         ...      ...      ...        ...    ...  \n",
       "995  Action, Adventure, Family      153   566356       78.0  2000s  \n",
       "996  Horror, Mystery, Thriller      104   377725       74.0  2000s  \n",
       "997               Crime, Drama      162   408911       60.0  1990s  \n",
       "998      Crime, Drama, Mystery      129   384826       76.0  2000s  \n",
       "999   Action, Horror, Thriller      118   236111       73.0  2010s  \n",
       "\n",
       "[1000 rows x 9 columns]"
      ]
     },
     "execution_count": 244,
     "metadata": {},
     "output_type": "execute_result"
    }
   ],
   "source": [
    "movies"
   ]
  },
  {
   "cell_type": "code",
   "execution_count": 247,
   "id": "53753f25",
   "metadata": {},
   "outputs": [
    {
     "data": {
      "text/html": [
       "<div>\n",
       "<style scoped>\n",
       "    .dataframe tbody tr th:only-of-type {\n",
       "        vertical-align: middle;\n",
       "    }\n",
       "\n",
       "    .dataframe tbody tr th {\n",
       "        vertical-align: top;\n",
       "    }\n",
       "\n",
       "    .dataframe thead th {\n",
       "        text-align: right;\n",
       "    }\n",
       "</style>\n",
       "<table border=\"1\" class=\"dataframe\">\n",
       "  <thead>\n",
       "    <tr style=\"text-align: right;\">\n",
       "      <th></th>\n",
       "      <th>title</th>\n",
       "      <th>year</th>\n",
       "      <th>rating</th>\n",
       "      <th>genres</th>\n",
       "      <th>runtime</th>\n",
       "      <th>votes</th>\n",
       "      <th>metascore</th>\n",
       "      <th>decade</th>\n",
       "    </tr>\n",
       "  </thead>\n",
       "  <tbody>\n",
       "    <tr>\n",
       "      <th>0</th>\n",
       "      <td>The Shawshank Redemption</td>\n",
       "      <td>1994</td>\n",
       "      <td>9.3</td>\n",
       "      <td>Drama</td>\n",
       "      <td>142</td>\n",
       "      <td>2757059</td>\n",
       "      <td>82.0</td>\n",
       "      <td>1990s</td>\n",
       "    </tr>\n",
       "    <tr>\n",
       "      <th>1</th>\n",
       "      <td>The Godfather</td>\n",
       "      <td>1972</td>\n",
       "      <td>9.2</td>\n",
       "      <td>Crime, Drama</td>\n",
       "      <td>175</td>\n",
       "      <td>1918435</td>\n",
       "      <td>100.0</td>\n",
       "      <td>1970s</td>\n",
       "    </tr>\n",
       "    <tr>\n",
       "      <th>2</th>\n",
       "      <td>The Chaos Class</td>\n",
       "      <td>1975</td>\n",
       "      <td>9.2</td>\n",
       "      <td>Comedy, Drama</td>\n",
       "      <td>87</td>\n",
       "      <td>41819</td>\n",
       "      <td>NaN</td>\n",
       "      <td>1970s</td>\n",
       "    </tr>\n",
       "    <tr>\n",
       "      <th>3</th>\n",
       "      <td>The Dark Knight</td>\n",
       "      <td>2008</td>\n",
       "      <td>9.0</td>\n",
       "      <td>Action, Crime, Drama</td>\n",
       "      <td>152</td>\n",
       "      <td>2730041</td>\n",
       "      <td>84.0</td>\n",
       "      <td>2000s</td>\n",
       "    </tr>\n",
       "    <tr>\n",
       "      <th>4</th>\n",
       "      <td>Schindler's List</td>\n",
       "      <td>1993</td>\n",
       "      <td>9.0</td>\n",
       "      <td>Biography, Drama, History</td>\n",
       "      <td>195</td>\n",
       "      <td>1389557</td>\n",
       "      <td>95.0</td>\n",
       "      <td>1990s</td>\n",
       "    </tr>\n",
       "    <tr>\n",
       "      <th>...</th>\n",
       "      <td>...</td>\n",
       "      <td>...</td>\n",
       "      <td>...</td>\n",
       "      <td>...</td>\n",
       "      <td>...</td>\n",
       "      <td>...</td>\n",
       "      <td>...</td>\n",
       "      <td>...</td>\n",
       "    </tr>\n",
       "    <tr>\n",
       "      <th>995</th>\n",
       "      <td>Harry Potter and the Half-Blood Prince</td>\n",
       "      <td>2009</td>\n",
       "      <td>7.6</td>\n",
       "      <td>Action, Adventure, Family</td>\n",
       "      <td>153</td>\n",
       "      <td>566356</td>\n",
       "      <td>78.0</td>\n",
       "      <td>2000s</td>\n",
       "    </tr>\n",
       "    <tr>\n",
       "      <th>996</th>\n",
       "      <td>The Others</td>\n",
       "      <td>2001</td>\n",
       "      <td>7.6</td>\n",
       "      <td>Horror, Mystery, Thriller</td>\n",
       "      <td>104</td>\n",
       "      <td>377725</td>\n",
       "      <td>74.0</td>\n",
       "      <td>2000s</td>\n",
       "    </tr>\n",
       "    <tr>\n",
       "      <th>997</th>\n",
       "      <td>The Godfather Part III</td>\n",
       "      <td>1990</td>\n",
       "      <td>7.6</td>\n",
       "      <td>Crime, Drama</td>\n",
       "      <td>162</td>\n",
       "      <td>408911</td>\n",
       "      <td>60.0</td>\n",
       "      <td>1990s</td>\n",
       "    </tr>\n",
       "    <tr>\n",
       "      <th>998</th>\n",
       "      <td>Inside Man</td>\n",
       "      <td>2006</td>\n",
       "      <td>7.6</td>\n",
       "      <td>Crime, Drama, Mystery</td>\n",
       "      <td>129</td>\n",
       "      <td>384826</td>\n",
       "      <td>76.0</td>\n",
       "      <td>2000s</td>\n",
       "    </tr>\n",
       "    <tr>\n",
       "      <th>999</th>\n",
       "      <td>Train to Busan</td>\n",
       "      <td>2016</td>\n",
       "      <td>7.6</td>\n",
       "      <td>Action, Horror, Thriller</td>\n",
       "      <td>118</td>\n",
       "      <td>236111</td>\n",
       "      <td>73.0</td>\n",
       "      <td>2010s</td>\n",
       "    </tr>\n",
       "  </tbody>\n",
       "</table>\n",
       "<p>1000 rows × 8 columns</p>\n",
       "</div>"
      ],
      "text/plain": [
       "                                      title  year  rating   \n",
       "0                  The Shawshank Redemption  1994     9.3  \\\n",
       "1                             The Godfather  1972     9.2   \n",
       "2                           The Chaos Class  1975     9.2   \n",
       "3                           The Dark Knight  2008     9.0   \n",
       "4                          Schindler's List  1993     9.0   \n",
       "..                                      ...   ...     ...   \n",
       "995  Harry Potter and the Half-Blood Prince  2009     7.6   \n",
       "996                              The Others  2001     7.6   \n",
       "997                  The Godfather Part III  1990     7.6   \n",
       "998                              Inside Man  2006     7.6   \n",
       "999                          Train to Busan  2016     7.6   \n",
       "\n",
       "                        genres  runtime    votes  metascore decade  \n",
       "0                        Drama      142  2757059       82.0  1990s  \n",
       "1                 Crime, Drama      175  1918435      100.0  1970s  \n",
       "2                Comedy, Drama       87    41819        NaN  1970s  \n",
       "3         Action, Crime, Drama      152  2730041       84.0  2000s  \n",
       "4    Biography, Drama, History      195  1389557       95.0  1990s  \n",
       "..                         ...      ...      ...        ...    ...  \n",
       "995  Action, Adventure, Family      153   566356       78.0  2000s  \n",
       "996  Horror, Mystery, Thriller      104   377725       74.0  2000s  \n",
       "997               Crime, Drama      162   408911       60.0  1990s  \n",
       "998      Crime, Drama, Mystery      129   384826       76.0  2000s  \n",
       "999   Action, Horror, Thriller      118   236111       73.0  2010s  \n",
       "\n",
       "[1000 rows x 8 columns]"
      ]
     },
     "execution_count": 247,
     "metadata": {},
     "output_type": "execute_result"
    }
   ],
   "source": [
    "movies.drop(['Unnamed: 0'], axis=1)"
   ]
  },
  {
   "cell_type": "code",
   "execution_count": 158,
   "id": "15f5e484",
   "metadata": {},
   "outputs": [
    {
     "name": "stdout",
     "output_type": "stream",
     "text": [
      "<class 'pandas.core.frame.DataFrame'>\n",
      "RangeIndex: 1000 entries, 0 to 999\n",
      "Data columns (total 9 columns):\n",
      " #   Column      Non-Null Count  Dtype  \n",
      "---  ------      --------------  -----  \n",
      " 0   Unnamed: 0  1000 non-null   int64  \n",
      " 1   title       1000 non-null   object \n",
      " 2   year        1000 non-null   int64  \n",
      " 3   rating      1000 non-null   float64\n",
      " 4   genres      1000 non-null   object \n",
      " 5   runtime     1000 non-null   int64  \n",
      " 6   votes       1000 non-null   int64  \n",
      " 7   metascore   815 non-null    float64\n",
      " 8   decade      1000 non-null   object \n",
      "dtypes: float64(2), int64(4), object(3)\n",
      "memory usage: 70.4+ KB\n"
     ]
    }
   ],
   "source": [
    "movies.info()"
   ]
  },
  {
   "cell_type": "code",
   "execution_count": 159,
   "id": "d7092a0b",
   "metadata": {},
   "outputs": [
    {
     "data": {
      "text/html": [
       "<div>\n",
       "<style scoped>\n",
       "    .dataframe tbody tr th:only-of-type {\n",
       "        vertical-align: middle;\n",
       "    }\n",
       "\n",
       "    .dataframe tbody tr th {\n",
       "        vertical-align: top;\n",
       "    }\n",
       "\n",
       "    .dataframe thead th {\n",
       "        text-align: right;\n",
       "    }\n",
       "</style>\n",
       "<table border=\"1\" class=\"dataframe\">\n",
       "  <thead>\n",
       "    <tr style=\"text-align: right;\">\n",
       "      <th></th>\n",
       "      <th>Unnamed: 0</th>\n",
       "      <th>year</th>\n",
       "      <th>rating</th>\n",
       "      <th>runtime</th>\n",
       "      <th>votes</th>\n",
       "      <th>metascore</th>\n",
       "    </tr>\n",
       "  </thead>\n",
       "  <tbody>\n",
       "    <tr>\n",
       "      <th>count</th>\n",
       "      <td>1000.000000</td>\n",
       "      <td>1000.00000</td>\n",
       "      <td>1000.00000</td>\n",
       "      <td>1000.000000</td>\n",
       "      <td>1.000000e+03</td>\n",
       "      <td>815.000000</td>\n",
       "    </tr>\n",
       "    <tr>\n",
       "      <th>mean</th>\n",
       "      <td>499.500000</td>\n",
       "      <td>1992.16200</td>\n",
       "      <td>7.98330</td>\n",
       "      <td>125.308000</td>\n",
       "      <td>3.131757e+05</td>\n",
       "      <td>79.087117</td>\n",
       "    </tr>\n",
       "    <tr>\n",
       "      <th>std</th>\n",
       "      <td>288.819436</td>\n",
       "      <td>24.38763</td>\n",
       "      <td>0.27442</td>\n",
       "      <td>29.489774</td>\n",
       "      <td>3.858921e+05</td>\n",
       "      <td>11.987033</td>\n",
       "    </tr>\n",
       "    <tr>\n",
       "      <th>min</th>\n",
       "      <td>0.000000</td>\n",
       "      <td>1920.00000</td>\n",
       "      <td>7.60000</td>\n",
       "      <td>45.000000</td>\n",
       "      <td>2.525800e+04</td>\n",
       "      <td>33.000000</td>\n",
       "    </tr>\n",
       "    <tr>\n",
       "      <th>25%</th>\n",
       "      <td>249.750000</td>\n",
       "      <td>1975.00000</td>\n",
       "      <td>7.80000</td>\n",
       "      <td>103.750000</td>\n",
       "      <td>5.733900e+04</td>\n",
       "      <td>71.000000</td>\n",
       "    </tr>\n",
       "    <tr>\n",
       "      <th>50%</th>\n",
       "      <td>499.500000</td>\n",
       "      <td>2000.00000</td>\n",
       "      <td>7.90000</td>\n",
       "      <td>121.000000</td>\n",
       "      <td>1.432260e+05</td>\n",
       "      <td>80.000000</td>\n",
       "    </tr>\n",
       "    <tr>\n",
       "      <th>75%</th>\n",
       "      <td>749.250000</td>\n",
       "      <td>2012.00000</td>\n",
       "      <td>8.10000</td>\n",
       "      <td>140.000000</td>\n",
       "      <td>4.390858e+05</td>\n",
       "      <td>88.000000</td>\n",
       "    </tr>\n",
       "    <tr>\n",
       "      <th>max</th>\n",
       "      <td>999.000000</td>\n",
       "      <td>2023.00000</td>\n",
       "      <td>9.30000</td>\n",
       "      <td>321.000000</td>\n",
       "      <td>2.757059e+06</td>\n",
       "      <td>100.000000</td>\n",
       "    </tr>\n",
       "  </tbody>\n",
       "</table>\n",
       "</div>"
      ],
      "text/plain": [
       "        Unnamed: 0        year      rating      runtime         votes   \n",
       "count  1000.000000  1000.00000  1000.00000  1000.000000  1.000000e+03  \\\n",
       "mean    499.500000  1992.16200     7.98330   125.308000  3.131757e+05   \n",
       "std     288.819436    24.38763     0.27442    29.489774  3.858921e+05   \n",
       "min       0.000000  1920.00000     7.60000    45.000000  2.525800e+04   \n",
       "25%     249.750000  1975.00000     7.80000   103.750000  5.733900e+04   \n",
       "50%     499.500000  2000.00000     7.90000   121.000000  1.432260e+05   \n",
       "75%     749.250000  2012.00000     8.10000   140.000000  4.390858e+05   \n",
       "max     999.000000  2023.00000     9.30000   321.000000  2.757059e+06   \n",
       "\n",
       "        metascore  \n",
       "count  815.000000  \n",
       "mean    79.087117  \n",
       "std     11.987033  \n",
       "min     33.000000  \n",
       "25%     71.000000  \n",
       "50%     80.000000  \n",
       "75%     88.000000  \n",
       "max    100.000000  "
      ]
     },
     "execution_count": 159,
     "metadata": {},
     "output_type": "execute_result"
    }
   ],
   "source": [
    "movies.describe()"
   ]
  },
  {
   "cell_type": "code",
   "execution_count": 160,
   "id": "3aa69016",
   "metadata": {},
   "outputs": [
    {
     "data": {
      "text/plain": [
       "genres\n",
       "True     739\n",
       "False    261\n",
       "Name: count, dtype: int64"
      ]
     },
     "execution_count": 160,
     "metadata": {},
     "output_type": "execute_result"
    }
   ],
   "source": [
    "movies.genres.str.contains('Drama').value_counts()"
   ]
  },
  {
   "cell_type": "code",
   "execution_count": 161,
   "id": "92c1a3ad",
   "metadata": {},
   "outputs": [
    {
     "data": {
      "text/plain": [
       "Counter({'Drama': 739,\n",
       "         'Comedy': 228,\n",
       "         'Action': 213,\n",
       "         'Crime': 199,\n",
       "         'Adventure': 183,\n",
       "         'Thriller': 137,\n",
       "         'Romance': 125,\n",
       "         'Biography': 104,\n",
       "         'Mystery': 101,\n",
       "         'Animation': 80,\n",
       "         'Sci-Fi': 62,\n",
       "         'Fantasy': 61,\n",
       "         'Family': 55,\n",
       "         'War': 51,\n",
       "         'History': 43,\n",
       "         'Music': 32,\n",
       "         'Horror': 30,\n",
       "         'Film-Noir': 22,\n",
       "         'Sport': 17,\n",
       "         'Western': 16,\n",
       "         'Musical': 16})"
      ]
     },
     "execution_count": 161,
     "metadata": {},
     "output_type": "execute_result"
    }
   ],
   "source": [
    "ctr = collections.Counter()\n",
    "for r in movies[\"genres\"]:\n",
    "    ctr.update(r.split(\", \"))\n",
    "ctr"
   ]
  },
  {
   "cell_type": "code",
   "execution_count": 162,
   "id": "3ad35996",
   "metadata": {},
   "outputs": [
    {
     "data": {
      "text/plain": [
       "[Text(0, 0, '739'),\n",
       " Text(0, 0, '199'),\n",
       " Text(0, 0, '228'),\n",
       " Text(0, 0, '213'),\n",
       " Text(0, 0, '104'),\n",
       " Text(0, 0, '43'),\n",
       " Text(0, 0, '183'),\n",
       " Text(0, 0, '101'),\n",
       " Text(0, 0, '137'),\n",
       " Text(0, 0, '80'),\n",
       " Text(0, 0, '62'),\n",
       " Text(0, 0, '125'),\n",
       " Text(0, 0, '16'),\n",
       " Text(0, 0, '61'),\n",
       " Text(0, 0, '51'),\n",
       " Text(0, 0, '55'),\n",
       " Text(0, 0, '30'),\n",
       " Text(0, 0, '32'),\n",
       " Text(0, 0, '22'),\n",
       " Text(0, 0, '16'),\n",
       " Text(0, 0, '17')]"
      ]
     },
     "execution_count": 162,
     "metadata": {},
     "output_type": "execute_result"
    },
    {
     "data": {
      "image/png": "[encoded data removed]",
      "text/plain": [
       "<Figure size 1200x1000 with 1 Axes>"
      ]
     },
     "metadata": {},
     "output_type": "display_data"
    }
   ],
   "source": [
    "fig = plt.figure(figsize=(12, 10))\n",
    "plt.xticks(rotation = 45)\n",
    "bars = plt.bar(ctr.keys(), ctr.values())\n",
    "plt.bar_label(bars)"
   ]
  },
  {
   "cell_type": "code",
   "execution_count": 163,
   "id": "91839fd6",
   "metadata": {},
   "outputs": [
    {
     "data": {
      "text/plain": [
       "[('Drama', 739),\n",
       " ('Comedy', 228),\n",
       " ('Action', 213),\n",
       " ('Crime', 199),\n",
       " ('Adventure', 183),\n",
       " ('Thriller', 137),\n",
       " ('Romance', 125),\n",
       " ('Biography', 104),\n",
       " ('Mystery', 101),\n",
       " ('Animation', 80),\n",
       " ('Sci-Fi', 62),\n",
       " ('Fantasy', 61),\n",
       " ('Family', 55),\n",
       " ('War', 51),\n",
       " ('History', 43),\n",
       " ('Music', 32),\n",
       " ('Horror', 30),\n",
       " ('Film-Noir', 22),\n",
       " ('Sport', 17),\n",
       " ('Western', 16),\n",
       " ('Musical', 16)]"
      ]
     },
     "execution_count": 163,
     "metadata": {},
     "output_type": "execute_result"
    }
   ],
   "source": [
    "ctr.most_common()"
   ]
  },
  {
   "cell_type": "code",
   "execution_count": 164,
   "id": "ee86b36e",
   "metadata": {},
   "outputs": [],
   "source": [
    "sns.set()"
   ]
  },
  {
   "cell_type": "code",
   "execution_count": 165,
   "id": "d11f35bd",
   "metadata": {},
   "outputs": [],
   "source": [
    "sns.set_style('whitegrid')"
   ]
  },
  {
   "cell_type": "code",
   "execution_count": 166,
   "id": "eb9b3b61",
   "metadata": {},
   "outputs": [
    {
     "data": {
      "text/plain": [
       "count    1000.00000\n",
       "mean     1992.16200\n",
       "std        24.38763\n",
       "min      1920.00000\n",
       "25%      1975.00000\n",
       "50%      2000.00000\n",
       "75%      2012.00000\n",
       "max      2023.00000\n",
       "Name: year, dtype: float64"
      ]
     },
     "execution_count": 166,
     "metadata": {},
     "output_type": "execute_result"
    }
   ],
   "source": [
    "movies.year.describe()"
   ]
  },
  {
   "cell_type": "code",
   "execution_count": 204,
   "id": "9ea80dc2",
   "metadata": {},
   "outputs": [],
   "source": [
    "sns.boxplot(x = movies.year)\n",
    "plt.xlim(1900, 2030)\n",
    "plt.title('Distribution of Years Releasing the Top Movies in IMDb')\n",
    "plt.xlabel('Year')"
   ]
  },
  {
   "cell_type": "code",
   "execution_count": 205,
   "id": "a59addfe",
   "metadata": {},
   "outputs": [],
   "source": [
    "movies.rating.describe()"
   ]
  },
  {
   "cell_type": "code",
   "execution_count": 206,
   "id": "204cc2f4",
   "metadata": {},
   "outputs": [],
   "source": [
    "sns.boxplot(x = movies.rating)\n",
    "plt.xlim(0, 10)\n",
    "plt.title('Distribution of Ratings of the Top Movies from IMDb')\n",
    "plt.xlabel('IMDb rating')"
   ]
  },
  {
   "cell_type": "code",
   "execution_count": 207,
   "id": "319afc24",
   "metadata": {},
   "outputs": [],
   "source": [
    "movies.rating.sort_values(ascending=False)"
   ]
  },
  {
   "cell_type": "code",
   "execution_count": 208,
   "id": "2c871d09",
   "metadata": {},
   "outputs": [],
   "source": [
    "# keep in mind that these record the best of the best movies in the database"
   ]
  },
  {
   "cell_type": "code",
   "execution_count": 209,
   "id": "64c31b92",
   "metadata": {},
   "outputs": [],
   "source": [
    "movies.runtime.describe()"
   ]
  },
  {
   "cell_type": "code",
   "execution_count": 210,
   "id": "9db805cb",
   "metadata": {},
   "outputs": [],
   "source": [
    "sns.boxplot(x = movies.runtime)\n",
    "plt.xlim(30, 360)\n",
    "plt.title('Distribution of Movie Duration of IMDb''s Top Movies')\n",
    "plt.xlabel('Runtime (minutes)')"
   ]
  },
  {
   "cell_type": "code",
   "execution_count": 211,
   "id": "0d5a945c",
   "metadata": {},
   "outputs": [],
   "source": [
    "movies.sort_values(by = 'runtime', ascending = False).head(20)"
   ]
  },
  {
   "cell_type": "code",
   "execution_count": 212,
   "id": "3d7100e2",
   "metadata": {},
   "outputs": [],
   "source": [
    "# checking if there are any mistakes with the outliers"
   ]
  },
  {
   "cell_type": "code",
   "execution_count": 213,
   "id": "fc0ad72d",
   "metadata": {},
   "outputs": [],
   "source": [
    "# somehow someone out there is really making these super long movies"
   ]
  },
  {
   "cell_type": "code",
   "execution_count": 214,
   "id": "93551b53",
   "metadata": {},
   "outputs": [],
   "source": [
    "movies.votes.describe()"
   ]
  },
  {
   "cell_type": "code",
   "execution_count": 215,
   "id": "8ec4a20b",
   "metadata": {},
   "outputs": [],
   "source": [
    "sns.boxplot(x = movies.votes)\n",
    "plt.xlim(0, 3000000)\n",
    "plt.xticks(np.arange(0, 3000000, 500000))\n",
    "plt.title('Distribution of Votes for the Top Movies on IMDb')\n",
    "plt.xlabel('Number of Votes')\n",
    "plt.show()"
   ]
  },
  {
   "cell_type": "code",
   "execution_count": 216,
   "id": "b15f17b7",
   "metadata": {},
   "outputs": [],
   "source": [
    "movies.sort_values(by = 'votes', ascending = False)"
   ]
  },
  {
   "cell_type": "code",
   "execution_count": 217,
   "id": "7d437a18",
   "metadata": {},
   "outputs": [],
   "source": [
    "movies.metascore.describe()"
   ]
  },
  {
   "cell_type": "code",
   "execution_count": 218,
   "id": "ae372969",
   "metadata": {},
   "outputs": [],
   "source": [
    "sns.boxplot(x = movies.metascore)\n",
    "plt.xlim(0, 100)\n",
    "plt.title('Distribution of Metascore Ratings of the Top Movies in IMDb')\n",
    "plt.xlabel('Metascore')"
   ]
  },
  {
   "cell_type": "code",
   "execution_count": 219,
   "id": "29036227",
   "metadata": {},
   "outputs": [],
   "source": [
    "movies.dropna(how='any').sort_values(by = 'metascore', ascending = False)"
   ]
  },
  {
   "cell_type": "code",
   "execution_count": 220,
   "id": "97018cba",
   "metadata": {},
   "outputs": [],
   "source": [
    "movies.dropna(how='any').describe()"
   ]
  },
  {
   "cell_type": "code",
   "execution_count": 221,
   "id": "ca8f6b5d",
   "metadata": {},
   "outputs": [],
   "source": [
    "movies"
   ]
  },
  {
   "cell_type": "code",
   "execution_count": 222,
   "id": "c417bcc3",
   "metadata": {},
   "outputs": [],
   "source": [
    "movies.groupby(movies.decade).describe()"
   ]
  },
  {
   "cell_type": "code",
   "execution_count": 223,
   "id": "28d8ff09",
   "metadata": {},
   "outputs": [],
   "source": [
    "movies"
   ]
  },
  {
   "cell_type": "code",
   "execution_count": 224,
   "id": "6b54ad8f",
   "metadata": {},
   "outputs": [],
   "source": [
    "ctr"
   ]
  },
  {
   "cell_type": "code",
   "execution_count": 225,
   "id": "8a01fe9d",
   "metadata": {},
   "outputs": [],
   "source": [
    "genre_list = ['Drama', 'Comedy', 'Action', 'Crime', 'Adventure', 'Thriller', 'Romance', 'Biography', 'Mystery', 'Animation', 'Sci-fi', 'Fantasy', 'Family', 'War', 'History', 'Music', 'Horror', 'Film-Noir', 'Sport', 'Western', 'Musical']"
   ]
  },
  {
   "cell_type": "code",
   "execution_count": 226,
   "id": "2af62dc0",
   "metadata": {},
   "outputs": [],
   "source": [
    "len(genre_list)"
   ]
  },
  {
   "cell_type": "code",
   "execution_count": 227,
   "id": "78ae0919",
   "metadata": {},
   "outputs": [],
   "source": [
    "s = pd.Series(movies.genres)"
   ]
  },
  {
   "cell_type": "code",
   "execution_count": 228,
   "id": "734dcb36",
   "metadata": {},
   "outputs": [],
   "source": [
    "s"
   ]
  },
  {
   "cell_type": "code",
   "execution_count": 229,
   "id": "1dd11efd",
   "metadata": {},
   "outputs": [],
   "source": [
    "dummies = movies['genres'].str.get_dummies(sep=', ')"
   ]
  },
  {
   "cell_type": "code",
   "execution_count": 230,
   "id": "758b5a60",
   "metadata": {},
   "outputs": [],
   "source": [
    "dummies"
   ]
  },
  {
   "cell_type": "code",
   "execution_count": 231,
   "id": "c93345fc",
   "metadata": {},
   "outputs": [],
   "source": [
    "movies"
   ]
  },
  {
   "cell_type": "code",
   "execution_count": 232,
   "id": "7f817ffc",
   "metadata": {},
   "outputs": [],
   "source": [
    "dummy_df = movies.join(dummies)"
   ]
  },
  {
   "cell_type": "code",
   "execution_count": 233,
   "id": "b8fabf64",
   "metadata": {},
   "outputs": [],
   "source": [
    "dummy_df"
   ]
  },
  {
   "cell_type": "code",
   "execution_count": 234,
   "id": "a6bbaaa3",
   "metadata": {},
   "outputs": [],
   "source": [
    "dummy_df.to_csv('dummies.csv')"
   ]
  },
  {
   "cell_type": "code",
   "execution_count": 235,
   "id": "55db28b8",
   "metadata": {},
   "outputs": [],
   "source": [
    "sns.pairplot(movies)"
   ]
  },
  {
   "cell_type": "code",
   "execution_count": 237,
   "id": "7505c4b1",
   "metadata": {},
   "outputs": [],
   "source": [
    "dummies"
   ]
  },
  {
   "cell_type": "code",
   "execution_count": null,
   "id": "615c52ea",
   "metadata": {},
   "outputs": [],
   "source": []
  }
 ],
 "metadata": {
  "kernelspec": {
   "display_name": "Python 3 (ipykernel)",
   "language": "python",
   "name": "python3"
  },
  "language_info": {
   "codemirror_mode": {
    "name": "ipython",
    "version": 3
   },
   "file_extension": ".py",
   "mimetype": "text/x-python",
   "name": "python",
   "nbconvert_exporter": "python",
   "pygments_lexer": "ipython3",
   "version": "3.9.16"
  }
 },
 "nbformat": 4,
 "nbformat_minor": 5
}
